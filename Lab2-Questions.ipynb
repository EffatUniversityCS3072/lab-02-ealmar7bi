{
 "cells": [
  {
   "cell_type": "markdown",
   "id": "582fd51e",
   "metadata": {},
   "source": [
    "# Lab 2: numpy\n",
    "\n",
    "#### Practice Exercise 1\n",
    "\n",
    "Create the following NumPy arrays: \n",
    "1. A 1-D array called zeros having 10 elements and all the elements are set to zero. \n",
    "2. A 1-D array called vowels having the elements ‘a’, ‘e’, ‘i’, ‘o’ and ‘u’. \n",
    "3. A 2-D array called ones having 2 rows and 5 columns and all the elements are set to 1 and dtype as int. \n",
    "4. Use nested Python lists to create a 2-D array called myarray1 having 3 rows and 3 columns and store the following data: 2.7,  0,  -2,  3.4,  10.6,  0,  -19 99.9 13 \n",
    "5. A 2-D array called myarray2 using arange() having 3 rows and 5 columns with start value = 4, step size 4 and dtype as float\n"
   ]
  },
  {
   "cell_type": "code",
   "execution_count": 5,
   "id": "94a11d03-e804-4b11-8991-8cff7d4bc50a",
   "metadata": {},
   "outputs": [
    {
     "name": "stdout",
     "output_type": "stream",
     "text": [
      "zeros:\n",
      " [0. 0. 0. 0. 0. 0. 0. 0. 0. 0.]\n",
      "vowels:\n",
      " ['a' 'e' 'i' 'o' 'u']\n",
      "ones:\n",
      " [[1 1 1 1 1]\n",
      " [1 1 1 1 1]]\n",
      "myarray1:\n",
      " [[  2.7   0.   -2. ]\n",
      " [  3.4  10.6   0. ]\n",
      " [-19.   99.9  13. ]]\n",
      "myarray2:\n",
      " [[ 4.  8. 12. 16. 20.]\n",
      " [24. 28. 32. 36. 40.]\n",
      " [44. 48. 52. 56. 60.]]\n"
     ]
    }
   ],
   "source": [
    "import numpy as np\n",
    "\n",
    "# 1. A 1-D array called 'zeros' having 10 elements, all set to zero.\n",
    "zeros = np.zeros(10)\n",
    "\n",
    "# 2. A 1-D array called 'vowels' having the elements 'a', 'e', 'i', 'o', and 'u'.\n",
    "vowels = np.array(['a', 'e', 'i', 'o', 'u'])\n",
    "\n",
    "# 3. A 2-D array called 'ones' having 2 rows and 5 columns, all set to 1, dtype as int.\n",
    "ones = np.ones((2, 5), dtype=int)\n",
    "\n",
    "# 4. A 2-D array called 'myarray1' using nested Python lists with specific data.\n",
    "myarray1 = np.array([[2.7, 0, -2], [3.4, 10.6, 0], [-19, 99.9, 13]])\n",
    "\n",
    "# 5. A 2-D array called 'myarray2' using arange() with 3 rows and 5 columns, start value = 4, step size = 4, dtype as float.\n",
    "myarray2 = np.arange(4, 4 * 5 * 3 + 1, 4, dtype=float).reshape(3, 5)\n",
    "\n",
    "# Output the created arrays\n",
    "print(\"zeros:\\n\", zeros)\n",
    "print(\"vowels:\\n\", vowels)\n",
    "print(\"ones:\\n\", ones)\n",
    "print(\"myarray1:\\n\", myarray1)\n",
    "print(\"myarray2:\\n\", myarray2)\n"
   ]
  },
  {
   "cell_type": "markdown",
   "id": "2d3fc3a8",
   "metadata": {},
   "source": [
    "Using the arrays created in Question above, write NumPy commands for the following: \n",
    "1. Find the dimensions, shape, size, data type of the items and itemsize of arrays zeros, vowels, ones, myarray1 and myarray2. \n",
    "2. Reshape the array ones to have all the 10 elements in a single row. \n",
    "3. Display the 2nd and 3rd element of the array vowels. \n",
    "4. Display all elements in the 2nd and 3rd row of the array myarray1. \n",
    "5. Display the elements in the 1st and 2nd column of the array myarray1. \n",
    "6. Display the elements in the 1st column of the 2nd and 3rd row of the array myarray1. \n",
    "7. Reverse the array of vowels."
   ]
  },
  {
   "cell_type": "code",
   "execution_count": 7,
   "id": "6602478e-4473-4a47-b426-07514aab8a89",
   "metadata": {},
   "outputs": [
    {
     "name": "stdout",
     "output_type": "stream",
     "text": [
      "Array: [0. 0. 0. 0. 0. 0. 0. 0. 0. 0.]\n",
      "Dimensions: 1\n",
      "Shape: (10,)\n",
      "Size: 10\n",
      "Data Type: float64\n",
      "Itemsize: 8 bytes\n",
      "\n",
      "Array: ['a' 'e' 'i' 'o' 'u']\n",
      "Dimensions: 1\n",
      "Shape: (5,)\n",
      "Size: 5\n",
      "Data Type: <U1\n",
      "Itemsize: 4 bytes\n",
      "\n",
      "Array: [[1 1 1 1 1]\n",
      " [1 1 1 1 1]]\n",
      "Dimensions: 2\n",
      "Shape: (2, 5)\n",
      "Size: 10\n",
      "Data Type: int32\n",
      "Itemsize: 4 bytes\n",
      "\n",
      "Array: [[  2.7   0.   -2. ]\n",
      " [  3.4  10.6   0. ]\n",
      " [-19.   99.9  13. ]]\n",
      "Dimensions: 2\n",
      "Shape: (3, 3)\n",
      "Size: 9\n",
      "Data Type: float64\n",
      "Itemsize: 8 bytes\n",
      "\n",
      "Array: [[ 4.  8. 12. 16. 20.]\n",
      " [24. 28. 32. 36. 40.]\n",
      " [44. 48. 52. 56. 60.]]\n",
      "Dimensions: 2\n",
      "Shape: (3, 5)\n",
      "Size: 15\n",
      "Data Type: float64\n",
      "Itemsize: 8 bytes\n",
      "\n",
      "Reshaped 'ones':\n",
      " [[1 1 1 1 1 1 1 1 1 1]]\n",
      "2nd and 3rd elements of 'vowels': ['e' 'i']\n",
      "2nd and 3rd rows of 'myarray1':\n",
      " [[  3.4  10.6   0. ]\n",
      " [-19.   99.9  13. ]]\n",
      "1st and 2nd columns of 'myarray1':\n",
      " [[  2.7   0. ]\n",
      " [  3.4  10.6]\n",
      " [-19.   99.9]]\n",
      "1st column of the 2nd and 3rd rows of 'myarray1': [  3.4 -19. ]\n",
      "Reversed 'vowels': ['u' 'o' 'i' 'e' 'a']\n"
     ]
    }
   ],
   "source": [
    "# 1. Find the dimensions, shape, size, data type, and itemsize of the arrays\n",
    "arrays = [zeros, vowels, ones, myarray1, myarray2]\n",
    "for array in arrays:\n",
    "    print(f\"Array: {array}\")\n",
    "    print(f\"Dimensions: {array.ndim}\")\n",
    "    print(f\"Shape: {array.shape}\")\n",
    "    print(f\"Size: {array.size}\")\n",
    "    print(f\"Data Type: {array.dtype}\")\n",
    "    print(f\"Itemsize: {array.itemsize} bytes\")\n",
    "    print()\n",
    "\n",
    "# 2. Reshape the array 'ones' to have all the 10 elements in a single row\n",
    "ones_reshaped = ones.reshape(1, -1)\n",
    "print(\"Reshaped 'ones':\\n\", ones_reshaped)\n",
    "\n",
    "# 3. Display the 2nd and 3rd element of the array 'vowels'\n",
    "print(\"2nd and 3rd elements of 'vowels':\", vowels[1:3])\n",
    "\n",
    "# 4. Display all elements in the 2nd and 3rd row of the array 'myarray1'\n",
    "print(\"2nd and 3rd rows of 'myarray1':\\n\", myarray1[1:3])\n",
    "\n",
    "# 5. Display the elements in the 1st and 2nd column of the array 'myarray1'\n",
    "print(\"1st and 2nd columns of 'myarray1':\\n\", myarray1[:, 0:2])\n",
    "\n",
    "# 6. Display the elements in the 1st column of the 2nd and 3rd row of the array 'myarray1'\n",
    "print(\"1st column of the 2nd and 3rd rows of 'myarray1':\", myarray1[1:3, 0])\n",
    "\n",
    "# 7. Reverse the array of vowels\n",
    "vowels_reversed = vowels[::-1]\n",
    "print(\"Reversed 'vowels':\", vowels_reversed)"
   ]
  },
  {
   "cell_type": "markdown",
   "id": "e1edb3bb",
   "metadata": {},
   "source": [
    "Using the arrays created in Question above, write NumPy commands for the following:\n",
    "1. Divide all elements of array ones by 3. \n",
    "2. Add the arrays myarray1 and myarray2. \n",
    "3. Subtract myarray1 from myarray2 and store the result in a new array. \n",
    "4. Multiply myarray1 and myarray2 elementwise. \n",
    "5. Do the matrix multiplication of myarray1 and myarray2 and store the result in a new array myarray3. \n",
    "6. Divide myarray1 by myarray2. \n",
    "7. Find the cube of all elements of myarray1 and divide the resulting array by 2. \n",
    "8. Find the square root of all elements of myarray2   and divide the resulting array by 2. The result  should be rounded to two places of decimals."
   ]
  },
  {
   "cell_type": "code",
   "execution_count": 9,
   "id": "b6d16238-85f6-45fe-90d2-1c01b2c3a58c",
   "metadata": {},
   "outputs": [
    {
     "name": "stdout",
     "output_type": "stream",
     "text": [
      "Array 'ones' divided by 3:\n",
      " [[0.33333333 0.33333333 0.33333333 0.33333333 0.33333333]\n",
      " [0.33333333 0.33333333 0.33333333 0.33333333 0.33333333]]\n",
      "Sum of 'myarray1' and 'myarray2':\n",
      " [[  6.7   8.   10. ]\n",
      " [ 27.4  38.6  32. ]\n",
      " [ 25.  147.9  65. ]]\n",
      "Difference of 'myarray2' and 'myarray1':\n",
      " [[  1.3   8.   14. ]\n",
      " [ 20.6  17.4  32. ]\n",
      " [ 63.  -51.9  39. ]]\n",
      "Elementwise multiplication of 'myarray1' and 'myarray2':\n",
      " [[  10.8    0.   -24. ]\n",
      " [  81.6  296.8    0. ]\n",
      " [-836.  4795.2  676. ]]\n",
      "Matrix multiplication of 'myarray1' and 'myarray2' stored in 'myarray3':\n",
      " [[-1.3200e+01  8.0000e-01  1.4800e+01]\n",
      " [ 9.8400e+01  3.7840e+02  6.5840e+02]\n",
      " [ 8.7920e+02  2.7572e+03  4.6352e+03]]\n",
      "Division of 'myarray1' by 'myarray2':\n",
      " [[ 0.675       0.         -0.16666667]\n",
      " [ 0.14166667  0.37857143  0.        ]\n",
      " [-0.43181818  2.08125     0.25      ]]\n",
      "Cube of 'myarray1' divided by 2:\n",
      " [[ 9.841500e+00  0.000000e+00 -4.000000e+00]\n",
      " [ 1.965200e+01  5.955080e+02  0.000000e+00]\n",
      " [-3.429500e+03  4.985015e+05  1.098500e+03]]\n",
      "Square root of 'myarray2' divided by 2 (rounded to two decimal places):\n",
      " [[1.   1.41 1.73 2.   2.24]\n",
      " [2.45 2.65 2.83 3.   3.16]\n",
      " [3.32 3.46 3.61 3.74 3.87]]\n"
     ]
    }
   ],
   "source": [
    "import numpy as np\n",
    "\n",
    "# Arrays created in the previous exercise\n",
    "ones = np.ones((2, 5), dtype=int)\n",
    "myarray1 = np.array([[2.7, 0, -2], [3.4, 10.6, 0], [-19, 99.9, 13]])\n",
    "myarray2 = np.arange(4, 4 * 5 * 3 + 1, 4, dtype=float).reshape(3, 5)\n",
    "\n",
    "# 1. Divide all elements of array 'ones' by 3\n",
    "ones_divided = ones / 3\n",
    "print(\"Array 'ones' divided by 3:\\n\", ones_divided)\n",
    "\n",
    "# 2. Add the arrays 'myarray1' and 'myarray2'\n",
    "# Note: They must have compatible shapes for addition.\n",
    "myarray_sum = myarray1 + myarray2[:3, :3]  # Adjusting myarray2 for compatible shape\n",
    "print(\"Sum of 'myarray1' and 'myarray2':\\n\", myarray_sum)\n",
    "\n",
    "# 3. Subtract 'myarray1' from 'myarray2' and store the result in a new array\n",
    "# Note: Adjusting myarray2 for compatible shape.\n",
    "myarray_diff = myarray2[:3, :3] - myarray1\n",
    "print(\"Difference of 'myarray2' and 'myarray1':\\n\", myarray_diff)\n",
    "\n",
    "# 4. Multiply 'myarray1' and 'myarray2' elementwise\n",
    "# Note: Adjusting myarray2 for compatible shape.\n",
    "elementwise_product = myarray1 * myarray2[:3, :3]\n",
    "print(\"Elementwise multiplication of 'myarray1' and 'myarray2':\\n\", elementwise_product)\n",
    "\n",
    "# 5. Matrix multiplication of 'myarray1' and 'myarray2' and store in 'myarray3'\n",
    "# Note: Adjusting shapes for matrix multiplication\n",
    "myarray3 = np.dot(myarray1, myarray2[:3, :3].T)  # Transposing myarray2 to make it compatible\n",
    "print(\"Matrix multiplication of 'myarray1' and 'myarray2' stored in 'myarray3':\\n\", myarray3)\n",
    "\n",
    "# 6. Divide 'myarray1' by 'myarray2'\n",
    "# Note: Adjusting myarray2 for compatible shape.\n",
    "division_result = myarray1 / myarray2[:3, :3]\n",
    "print(\"Division of 'myarray1' by 'myarray2':\\n\", division_result)\n",
    "\n",
    "# 7. Find the cube of all elements of 'myarray1' and divide by 2\n",
    "cubic_divided = (myarray1 ** 3) / 2\n",
    "print(\"Cube of 'myarray1' divided by 2:\\n\", cubic_divided)\n",
    "\n",
    "# 8. Find the square root of all elements of 'myarray2' and divide by 2\n",
    "sqrt_divided = np.sqrt(myarray2) / 2\n",
    "sqrt_divided_rounded = np.round(sqrt_divided, 2)\n",
    "print(\"Square root of 'myarray2' divided by 2 (rounded to two decimal places):\\n\", sqrt_divided_rounded)\n"
   ]
  },
  {
   "cell_type": "markdown",
   "id": "d8aafc74",
   "metadata": {},
   "source": [
    "Using the arrays created above, write NumPy commands for the following: \n",
    "1. Find the transpose of ones and myarray2. \n",
    "2. Sort the array vowels in reverse. \n",
    "3. Sort the array myarray1 such that it brings the lowest value of the column in the first row and so on."
   ]
  },
  {
   "cell_type": "code",
   "execution_count": 11,
   "id": "e44a482b-7abc-43f9-919b-cb2a4a456cac",
   "metadata": {},
   "outputs": [
    {
     "name": "stdout",
     "output_type": "stream",
     "text": [
      "Transpose of 'ones':\n",
      " [[1 1]\n",
      " [1 1]\n",
      " [1 1]\n",
      " [1 1]\n",
      " [1 1]]\n",
      "Transpose of 'myarray2':\n",
      " [[ 4. 24. 44.]\n",
      " [ 8. 28. 48.]\n",
      " [12. 32. 52.]\n",
      " [16. 36. 56.]\n",
      " [20. 40. 60.]]\n",
      "Vowels sorted in reverse order:\n",
      " ['u' 'o' 'i' 'e' 'a']\n",
      "Sorted 'myarray1' by columns:\n",
      " [[-19.    0.   -2. ]\n",
      " [  2.7  10.6   0. ]\n",
      " [  3.4  99.9  13. ]]\n"
     ]
    }
   ],
   "source": [
    "import numpy as np\n",
    "\n",
    "# Arrays created in the previous exercise\n",
    "ones = np.ones((2, 5), dtype=int)\n",
    "vowels = np.array(['a', 'e', 'i', 'o', 'u'])\n",
    "myarray1 = np.array([[2.7, 0, -2], [3.4, 10.6, 0], [-19, 99.9, 13]])\n",
    "myarray2 = np.arange(4, 4 * 5 * 3 + 1, 4, dtype=float).reshape(3, 5)\n",
    "\n",
    "# 1. Find the transpose of 'ones' and 'myarray2'\n",
    "ones_transpose = ones.T\n",
    "myarray2_transpose = myarray2.T\n",
    "\n",
    "print(\"Transpose of 'ones':\\n\", ones_transpose)\n",
    "print(\"Transpose of 'myarray2':\\n\", myarray2_transpose)\n",
    "\n",
    "# 2. Sort the array 'vowels' in reverse order\n",
    "vowels_sorted_reverse = np.sort(vowels)[::-1]\n",
    "print(\"Vowels sorted in reverse order:\\n\", vowels_sorted_reverse)\n",
    "\n",
    "# 3. Sort the array 'myarray1' such that it brings the lowest value of each column in the first row\n",
    "# Using np.argsort to get indices that would sort the array, then indexing\n",
    "sorted_indices = np.argsort(myarray1, axis=0)\n",
    "sorted_myarray1 = myarray1[sorted_indices, np.arange(myarray1.shape[1])]\n",
    "\n",
    "print(\"Sorted 'myarray1' by columns:\\n\", sorted_myarray1)\n"
   ]
  },
  {
   "cell_type": "markdown",
   "id": "93546856",
   "metadata": {},
   "source": [
    "Create a 2-D array called myarray4 using arange() having 14 rows and 3 columns with start value = -1, step size 0.25 having. Split this array row wise into 3 equal parts and print the result. "
   ]
  },
  {
   "cell_type": "code",
   "execution_count": 17,
   "id": "bb8b445c-6c1e-4968-94ea-eab5c0186b09",
   "metadata": {},
   "outputs": [
    {
     "ename": "ValueError",
     "evalue": "cannot reshape array of size 14 into shape (14,3)",
     "output_type": "error",
     "traceback": [
      "\u001b[1;31m---------------------------------------------------------------------------\u001b[0m",
      "\u001b[1;31mValueError\u001b[0m                                Traceback (most recent call last)",
      "Cell \u001b[1;32mIn[17], line 4\u001b[0m\n\u001b[0;32m      1\u001b[0m \u001b[38;5;28;01mimport\u001b[39;00m \u001b[38;5;21;01mnumpy\u001b[39;00m \u001b[38;5;28;01mas\u001b[39;00m \u001b[38;5;21;01mnp\u001b[39;00m\n\u001b[0;32m      3\u001b[0m \u001b[38;5;66;03m# Create a 2-D array called 'myarray4' using arange() with 14 rows and 3 columns\u001b[39;00m\n\u001b[1;32m----> 4\u001b[0m myarray4 \u001b[38;5;241m=\u001b[39m np\u001b[38;5;241m.\u001b[39marange(\u001b[38;5;241m-\u001b[39m\u001b[38;5;241m1\u001b[39m, \u001b[38;5;241m-\u001b[39m\u001b[38;5;241m1\u001b[39m \u001b[38;5;241m+\u001b[39m \u001b[38;5;241m14\u001b[39m \u001b[38;5;241m*\u001b[39m \u001b[38;5;241m0.25\u001b[39m, \u001b[38;5;241m0.25\u001b[39m)\u001b[38;5;241m.\u001b[39mreshape(\u001b[38;5;241m14\u001b[39m, \u001b[38;5;241m3\u001b[39m)\n\u001b[0;32m      6\u001b[0m \u001b[38;5;66;03m# Split this array row-wise into 3 equal parts (4 rows each) and print the result\u001b[39;00m\n\u001b[0;32m      7\u001b[0m myarray4_split \u001b[38;5;241m=\u001b[39m np\u001b[38;5;241m.\u001b[39msplit(myarray4, \u001b[38;5;241m3\u001b[39m)\n",
      "\u001b[1;31mValueError\u001b[0m: cannot reshape array of size 14 into shape (14,3)"
     ]
    }
   ],
   "source": [
    "import numpy as np\n",
    "\n",
    "# Create a 2-D array called 'myarray4' using arange() with 14 rows and 3 columns\n",
    "myarray4 = np.arange(-1, -1 + 14 * 0.25, 0.25).reshape(14, 3)\n",
    "\n",
    "# Split this array row-wise into 3 equal parts (4 rows each) and print the result\n",
    "myarray4_split = np.split(myarray4, 3)\n",
    "print(\"Split myarray4 into 3 equal parts:\")\n",
    "for part in myarray4_split:\n",
    "    print(part, \"\\n\")"
   ]
  },
  {
   "cell_type": "markdown",
   "id": "c8cdbaff",
   "metadata": {},
   "source": [
    "Using the myarray4 created in the above questions, write commands for the following: \n",
    "1. Find the sum of all elements. \n",
    "2. Find the sum of all elements row wise\n",
    "3. Find the sum of all elements column wise. \n",
    "4. Find the max of all elements. \n",
    "5. Find the min of all elements in each row. \n",
    "6. Find the mean of all elements in each row. \n",
    "7. Find the standard deviation column wise."
   ]
  },
  {
   "cell_type": "markdown",
   "id": "8d7e1dca",
   "metadata": {},
   "source": [
    "#### Practice Exercise 2\n",
    "Read the coordinates of the capital cities of the world from the country-capital-lat-long-population.csv file. Use NumPy to print the name and coordinates of the capital city closest to the Saudi Arabia capital - Riyadh.\n",
    "\n",
    "Note that:\n",
    "\n",
    "1. The Country Name for Saudi Arabia is given as Saudi Arabia in the data.\n",
    "2. The ‘closeness’ of capital cities from the Saudi Arabia capital is based on the Euclidean distance of their coordinates to those of the Saudi Arabia capital.\n",
    "\n",
    "\n",
    "Hints:\n",
    "\n",
    "1. Use read_html() from the Pandas library to read the table.\n",
    "2. Use the to_numpy() function of the Pandas DataFrame class to convert a DataFrame to a Numpy array\n",
    "3. Use broadcasting to compute the euclidean distance of capital cities from Riyadh."
   ]
  },
  {
   "cell_type": "markdown",
   "id": "1fdbec05",
   "metadata": {},
   "source": [
    "#### Practical Exercise 2\n",
    "\n",
    "Use NumPy to:\n",
    "\n",
    "1. Print the names of the countries of the top 10 capital cities closest to the US capital - Washington DC.\n",
    "\n",
    "2. Create and print a NumPy array containing the coordinates of the top 10 cities."
   ]
  }
 ],
 "metadata": {
  "kernelspec": {
   "display_name": "Python 3 (ipykernel)",
   "language": "python",
   "name": "python3"
  },
  "language_info": {
   "codemirror_mode": {
    "name": "ipython",
    "version": 3
   },
   "file_extension": ".py",
   "mimetype": "text/x-python",
   "name": "python",
   "nbconvert_exporter": "python",
   "pygments_lexer": "ipython3",
   "version": "3.12.4"
  }
 },
 "nbformat": 4,
 "nbformat_minor": 5
}
